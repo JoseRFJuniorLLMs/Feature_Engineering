{
 "cells": [
  {
   "cell_type": "markdown",
   "metadata": {
    "toc": true
   },
   "source": [
    "<h1>Table of Contents<span class=\"tocSkip\"></span></h1>\n",
    "<div class=\"toc\"><ul class=\"toc-item\"><li><span><a href=\"#Logarithmic-Conversion\" data-toc-modified-id=\"Logarithmic-Conversion-1\"><span class=\"toc-item-num\">1&nbsp;&nbsp;</span>Logarithmic Conversion</a></span></li><li><span><a href=\"#Imputation\" data-toc-modified-id=\"Imputation-2\"><span class=\"toc-item-num\">2&nbsp;&nbsp;</span>Imputation</a></span></li><li><span><a href=\"#Dates\" data-toc-modified-id=\"Dates-3\"><span class=\"toc-item-num\">3&nbsp;&nbsp;</span>Dates</a></span></li><li><span><a href=\"#Outliers\" data-toc-modified-id=\"Outliers-4\"><span class=\"toc-item-num\">4&nbsp;&nbsp;</span>Outliers</a></span></li><li><span><a href=\"#Binning\" data-toc-modified-id=\"Binning-5\"><span class=\"toc-item-num\">5&nbsp;&nbsp;</span>Binning</a></span></li><li><span><a href=\"#Categorical-to-Numeric\" data-toc-modified-id=\"Categorical-to-Numeric-6\"><span class=\"toc-item-num\">6&nbsp;&nbsp;</span>Categorical to Numeric</a></span></li><li><span><a href=\"#Machine-Learning\" data-toc-modified-id=\"Machine-Learning-7\"><span class=\"toc-item-num\">7&nbsp;&nbsp;</span>Machine Learning</a></span></li></ul></div>"
   ]
  },
  {
   "cell_type": "markdown",
   "metadata": {},
   "source": [
    "# Feature Engineering Techniques"
   ]
  },
  {
   "cell_type": "code",
   "execution_count": 1,
   "metadata": {
    "ExecuteTime": {
     "end_time": "2019-10-10T23:17:42.285318Z",
     "start_time": "2019-10-10T23:17:41.825084Z"
    }
   },
   "outputs": [
    {
     "data": {
      "text/html": [
       "<div>\n",
       "<style scoped>\n",
       "    .dataframe tbody tr th:only-of-type {\n",
       "        vertical-align: middle;\n",
       "    }\n",
       "\n",
       "    .dataframe tbody tr th {\n",
       "        vertical-align: top;\n",
       "    }\n",
       "\n",
       "    .dataframe thead th {\n",
       "        text-align: right;\n",
       "    }\n",
       "</style>\n",
       "<table border=\"1\" class=\"dataframe\">\n",
       "  <thead>\n",
       "    <tr style=\"text-align: right;\">\n",
       "      <th></th>\n",
       "      <th>Date</th>\n",
       "      <th>X1</th>\n",
       "      <th>X2</th>\n",
       "      <th>X3</th>\n",
       "      <th>X4</th>\n",
       "      <th>Y</th>\n",
       "    </tr>\n",
       "  </thead>\n",
       "  <tbody>\n",
       "    <tr>\n",
       "      <th>0</th>\n",
       "      <td>2016-01-01</td>\n",
       "      <td>NaN</td>\n",
       "      <td>22.215028</td>\n",
       "      <td>6.186332</td>\n",
       "      <td>Car</td>\n",
       "      <td>True</td>\n",
       "    </tr>\n",
       "    <tr>\n",
       "      <th>1</th>\n",
       "      <td>2016-01-02</td>\n",
       "      <td>6.517956</td>\n",
       "      <td>17.317220</td>\n",
       "      <td>NaN</td>\n",
       "      <td>Car</td>\n",
       "      <td>True</td>\n",
       "    </tr>\n",
       "    <tr>\n",
       "      <th>2</th>\n",
       "      <td>2016-01-03</td>\n",
       "      <td>NaN</td>\n",
       "      <td>16.262419</td>\n",
       "      <td>12.392226</td>\n",
       "      <td>Car</td>\n",
       "      <td>True</td>\n",
       "    </tr>\n",
       "    <tr>\n",
       "      <th>3</th>\n",
       "      <td>2016-01-04</td>\n",
       "      <td>NaN</td>\n",
       "      <td>22.746779</td>\n",
       "      <td>4.742349</td>\n",
       "      <td>Car</td>\n",
       "      <td>True</td>\n",
       "    </tr>\n",
       "    <tr>\n",
       "      <th>4</th>\n",
       "      <td>2016-01-05</td>\n",
       "      <td>11.504477</td>\n",
       "      <td>16.928906</td>\n",
       "      <td>9.016004</td>\n",
       "      <td>Car</td>\n",
       "      <td>True</td>\n",
       "    </tr>\n",
       "  </tbody>\n",
       "</table>\n",
       "</div>"
      ],
      "text/plain": [
       "        Date         X1         X2         X3   X4     Y\n",
       "0 2016-01-01        NaN  22.215028   6.186332  Car  True\n",
       "1 2016-01-02   6.517956  17.317220        NaN  Car  True\n",
       "2 2016-01-03        NaN  16.262419  12.392226  Car  True\n",
       "3 2016-01-04        NaN  22.746779   4.742349  Car  True\n",
       "4 2016-01-05  11.504477  16.928906   9.016004  Car  True"
      ]
     },
     "execution_count": 1,
     "metadata": {},
     "output_type": "execute_result"
    }
   ],
   "source": [
    "import numpy as np\n",
    "import pandas as pd \n",
    "\n",
    "dataset_len = 8000\n",
    "dlen = int(dataset_len/2)\n",
    "X_11 = pd.Series(np.random.normal(8,2,dlen))\n",
    "X_12 = pd.Series(np.random.randint(low=0, high=100, size=dlen))\n",
    "X_1 = pd.concat([X_11, X_12]).reset_index(drop=True)\n",
    "X_21 = pd.Series(np.random.normal(20,3,dlen))\n",
    "X_22 = pd.Series(np.random.normal(9,3,dlen))\n",
    "X_2 = pd.concat([X_21, X_22]).reset_index(drop=True)\n",
    "X_31 = pd.Series(np.random.normal(8,2,dlen))\n",
    "X_32 = pd.Series(np.random.randint(low=0, high=300, size=dlen))\n",
    "X_3 = pd.concat([X_31, X_32]).reset_index(drop=True)\n",
    "X_4 = pd.Series(np.repeat(['Car', 'Bus', 'Bike', 'Scooter'],\n",
    "                          dlen/2))\n",
    "Y = pd.Series(np.repeat(['True','False'],dlen))\n",
    "df = pd.concat([X_1, X_2, X_3, X_4, Y], axis=1)\n",
    "df.columns = ['X1', 'X2', 'X3', 'X4', 'Y']\n",
    "df['X1'] = df['X1'].mask(np.random.random(df['X1'].shape) < 0.22)\n",
    "df[['X3', 'X4']] = df[['X3', 'X4']].mask(np.random.random(df[['X3', \n",
    "                        'X4']].shape) < 0.10)\n",
    "dates = pd.date_range(start='1/1/2016', periods=len(df), freq='D')\n",
    "df.insert(loc= 0, column='Date', value= dates)\n",
    "df.head()"
   ]
  },
  {
   "cell_type": "markdown",
   "metadata": {},
   "source": [
    "## Logarithmic Conversion"
   ]
  },
  {
   "cell_type": "code",
   "execution_count": 2,
   "metadata": {
    "ExecuteTime": {
     "end_time": "2019-10-10T23:17:42.339191Z",
     "start_time": "2019-10-10T23:17:42.300632Z"
    }
   },
   "outputs": [
    {
     "data": {
      "text/html": [
       "<div>\n",
       "<style scoped>\n",
       "    .dataframe tbody tr th:only-of-type {\n",
       "        vertical-align: middle;\n",
       "    }\n",
       "\n",
       "    .dataframe tbody tr th {\n",
       "        vertical-align: top;\n",
       "    }\n",
       "\n",
       "    .dataframe thead th {\n",
       "        text-align: right;\n",
       "    }\n",
       "</style>\n",
       "<table border=\"1\" class=\"dataframe\">\n",
       "  <thead>\n",
       "    <tr style=\"text-align: right;\">\n",
       "      <th></th>\n",
       "      <th>Date</th>\n",
       "      <th>X1</th>\n",
       "      <th>X2</th>\n",
       "      <th>X3</th>\n",
       "      <th>X4</th>\n",
       "      <th>Y</th>\n",
       "    </tr>\n",
       "  </thead>\n",
       "  <tbody>\n",
       "    <tr>\n",
       "      <th>6053</th>\n",
       "      <td>2032-07-28</td>\n",
       "      <td>4.343805</td>\n",
       "      <td>2.123741</td>\n",
       "      <td>4.753590</td>\n",
       "      <td>Scooter</td>\n",
       "      <td>False</td>\n",
       "    </tr>\n",
       "    <tr>\n",
       "      <th>1252</th>\n",
       "      <td>2019-06-06</td>\n",
       "      <td>NaN</td>\n",
       "      <td>3.079325</td>\n",
       "      <td>2.017127</td>\n",
       "      <td>Car</td>\n",
       "      <td>True</td>\n",
       "    </tr>\n",
       "    <tr>\n",
       "      <th>5214</th>\n",
       "      <td>2030-04-11</td>\n",
       "      <td>4.510860</td>\n",
       "      <td>2.363963</td>\n",
       "      <td>5.568345</td>\n",
       "      <td>Bike</td>\n",
       "      <td>False</td>\n",
       "    </tr>\n",
       "    <tr>\n",
       "      <th>733</th>\n",
       "      <td>2018-01-03</td>\n",
       "      <td>2.665382</td>\n",
       "      <td>2.966303</td>\n",
       "      <td>2.017934</td>\n",
       "      <td>Car</td>\n",
       "      <td>True</td>\n",
       "    </tr>\n",
       "    <tr>\n",
       "      <th>2056</th>\n",
       "      <td>2021-08-18</td>\n",
       "      <td>2.117735</td>\n",
       "      <td>3.138403</td>\n",
       "      <td>2.193890</td>\n",
       "      <td>Bus</td>\n",
       "      <td>True</td>\n",
       "    </tr>\n",
       "  </tbody>\n",
       "</table>\n",
       "</div>"
      ],
      "text/plain": [
       "           Date        X1        X2        X3       X4      Y\n",
       "6053 2032-07-28  4.343805  2.123741  4.753590  Scooter  False\n",
       "1252 2019-06-06       NaN  3.079325  2.017127      Car   True\n",
       "5214 2030-04-11  4.510860  2.363963  5.568345     Bike  False\n",
       "733  2018-01-03  2.665382  2.966303  2.017934      Car   True\n",
       "2056 2021-08-18  2.117735  3.138403  2.193890      Bus   True"
      ]
     },
     "execution_count": 2,
     "metadata": {},
     "output_type": "execute_result"
    }
   ],
   "source": [
    "df[['X1', 'X2', 'X3']]=(df[['X1','X2','X3']]-\n",
    "                        df[['X1','X2','X3']].min()+\n",
    "                        1).transform(np.log)\n",
    "df.sample(5)"
   ]
  },
  {
   "cell_type": "markdown",
   "metadata": {},
   "source": [
    "## Imputation"
   ]
  },
  {
   "cell_type": "code",
   "execution_count": 3,
   "metadata": {
    "ExecuteTime": {
     "end_time": "2019-10-10T23:17:42.371163Z",
     "start_time": "2019-10-10T23:17:42.347516Z"
    }
   },
   "outputs": [
    {
     "data": {
      "text/html": [
       "<div>\n",
       "<style scoped>\n",
       "    .dataframe tbody tr th:only-of-type {\n",
       "        vertical-align: middle;\n",
       "    }\n",
       "\n",
       "    .dataframe tbody tr th {\n",
       "        vertical-align: top;\n",
       "    }\n",
       "\n",
       "    .dataframe thead th {\n",
       "        text-align: right;\n",
       "    }\n",
       "</style>\n",
       "<table border=\"1\" class=\"dataframe\">\n",
       "  <thead>\n",
       "    <tr style=\"text-align: right;\">\n",
       "      <th></th>\n",
       "      <th>NaNs percentage</th>\n",
       "    </tr>\n",
       "  </thead>\n",
       "  <tbody>\n",
       "    <tr>\n",
       "      <th>X1</th>\n",
       "      <td>20.9000</td>\n",
       "    </tr>\n",
       "    <tr>\n",
       "      <th>X3</th>\n",
       "      <td>10.0875</td>\n",
       "    </tr>\n",
       "    <tr>\n",
       "      <th>X4</th>\n",
       "      <td>9.9125</td>\n",
       "    </tr>\n",
       "    <tr>\n",
       "      <th>Date</th>\n",
       "      <td>0.0000</td>\n",
       "    </tr>\n",
       "    <tr>\n",
       "      <th>X2</th>\n",
       "      <td>0.0000</td>\n",
       "    </tr>\n",
       "    <tr>\n",
       "      <th>Y</th>\n",
       "      <td>0.0000</td>\n",
       "    </tr>\n",
       "  </tbody>\n",
       "</table>\n",
       "</div>"
      ],
      "text/plain": [
       "      NaNs percentage\n",
       "X1            20.9000\n",
       "X3            10.0875\n",
       "X4             9.9125\n",
       "Date           0.0000\n",
       "X2             0.0000\n",
       "Y              0.0000"
      ]
     },
     "execution_count": 3,
     "metadata": {},
     "output_type": "execute_result"
    }
   ],
   "source": [
    "percent_missing = df.isnull().sum() * 100 / len(df)\n",
    "missing_values = pd.DataFrame({'NaNs percentage': percent_missing})\n",
    "missing_values.sort_values(by ='NaNs percentage' , ascending=False)"
   ]
  },
  {
   "cell_type": "code",
   "execution_count": 4,
   "metadata": {
    "ExecuteTime": {
     "end_time": "2019-10-10T23:17:42.422875Z",
     "start_time": "2019-10-10T23:17:42.384751Z"
    }
   },
   "outputs": [
    {
     "data": {
      "text/html": [
       "<div>\n",
       "<style scoped>\n",
       "    .dataframe tbody tr th:only-of-type {\n",
       "        vertical-align: middle;\n",
       "    }\n",
       "\n",
       "    .dataframe tbody tr th {\n",
       "        vertical-align: top;\n",
       "    }\n",
       "\n",
       "    .dataframe thead th {\n",
       "        text-align: right;\n",
       "    }\n",
       "</style>\n",
       "<table border=\"1\" class=\"dataframe\">\n",
       "  <thead>\n",
       "    <tr style=\"text-align: right;\">\n",
       "      <th></th>\n",
       "      <th>NaNs percentage</th>\n",
       "    </tr>\n",
       "  </thead>\n",
       "  <tbody>\n",
       "    <tr>\n",
       "      <th>X3</th>\n",
       "      <td>10.0875</td>\n",
       "    </tr>\n",
       "    <tr>\n",
       "      <th>X4</th>\n",
       "      <td>9.9125</td>\n",
       "    </tr>\n",
       "    <tr>\n",
       "      <th>Date</th>\n",
       "      <td>0.0000</td>\n",
       "    </tr>\n",
       "    <tr>\n",
       "      <th>X2</th>\n",
       "      <td>0.0000</td>\n",
       "    </tr>\n",
       "    <tr>\n",
       "      <th>Y</th>\n",
       "      <td>0.0000</td>\n",
       "    </tr>\n",
       "  </tbody>\n",
       "</table>\n",
       "</div>"
      ],
      "text/plain": [
       "      NaNs percentage\n",
       "X3            10.0875\n",
       "X4             9.9125\n",
       "Date           0.0000\n",
       "X2             0.0000\n",
       "Y              0.0000"
      ]
     },
     "execution_count": 4,
     "metadata": {},
     "output_type": "execute_result"
    }
   ],
   "source": [
    "# Drop Column if at least 20% of it's elements are Nans\n",
    "df = df.loc[:, df.isnull().sum() < 0.2*df.shape[0]]\n",
    "\n",
    "percent_missing = df.isnull().sum() * 100 / len(df)\n",
    "missing_values = pd.DataFrame({'NaNs percentage': percent_missing})\n",
    "missing_values.sort_values(by ='NaNs percentage' , ascending=False)"
   ]
  },
  {
   "cell_type": "code",
   "execution_count": 5,
   "metadata": {
    "ExecuteTime": {
     "end_time": "2019-10-10T23:17:42.471500Z",
     "start_time": "2019-10-10T23:17:42.432184Z"
    }
   },
   "outputs": [
    {
     "data": {
      "text/html": [
       "<div>\n",
       "<style scoped>\n",
       "    .dataframe tbody tr th:only-of-type {\n",
       "        vertical-align: middle;\n",
       "    }\n",
       "\n",
       "    .dataframe tbody tr th {\n",
       "        vertical-align: top;\n",
       "    }\n",
       "\n",
       "    .dataframe thead th {\n",
       "        text-align: right;\n",
       "    }\n",
       "</style>\n",
       "<table border=\"1\" class=\"dataframe\">\n",
       "  <thead>\n",
       "    <tr style=\"text-align: right;\">\n",
       "      <th></th>\n",
       "      <th>NaNs percentage</th>\n",
       "    </tr>\n",
       "  </thead>\n",
       "  <tbody>\n",
       "    <tr>\n",
       "      <th>Date</th>\n",
       "      <td>0.0</td>\n",
       "    </tr>\n",
       "    <tr>\n",
       "      <th>X2</th>\n",
       "      <td>0.0</td>\n",
       "    </tr>\n",
       "    <tr>\n",
       "      <th>X3</th>\n",
       "      <td>0.0</td>\n",
       "    </tr>\n",
       "    <tr>\n",
       "      <th>X4</th>\n",
       "      <td>0.0</td>\n",
       "    </tr>\n",
       "    <tr>\n",
       "      <th>Y</th>\n",
       "      <td>0.0</td>\n",
       "    </tr>\n",
       "  </tbody>\n",
       "</table>\n",
       "</div>"
      ],
      "text/plain": [
       "      NaNs percentage\n",
       "Date              0.0\n",
       "X2                0.0\n",
       "X3                0.0\n",
       "X4                0.0\n",
       "Y                 0.0"
      ]
     },
     "execution_count": 5,
     "metadata": {},
     "output_type": "execute_result"
    }
   ],
   "source": [
    "# Using Mean to fill NaNs\n",
    "#for i in range(0, len(df.columns)):\n",
    "for i in range(1, 3):\n",
    "    df.iloc[:,i].fillna(df.iloc[:,i].median(), inplace=True)\n",
    "    \n",
    "df['X4'].fillna(df['X4'].value_counts().idxmax(), inplace=True)\n",
    "    \n",
    "percent_missing = df.isnull().sum() * 100 / len(df)\n",
    "missing_values = pd.DataFrame({'NaNs percentage': percent_missing})\n",
    "missing_values.sort_values(by ='NaNs percentage' , ascending=False)"
   ]
  },
  {
   "cell_type": "code",
   "execution_count": 6,
   "metadata": {
    "ExecuteTime": {
     "end_time": "2019-10-10T23:17:42.489976Z",
     "start_time": "2019-10-10T23:17:42.481377Z"
    }
   },
   "outputs": [],
   "source": [
    "# # Categorical Data\n",
    "# df['X4'].fillna(df['X4'].value_counts().idxmax(), inplace=True)\n",
    "\n",
    "# percent_missing = df.isnull().sum() * 100 / len(df)\n",
    "# missing_values = pd.DataFrame({'NaNs percentage': percent_missing})\n",
    "# missing_values.sort_values(by ='NaNs percentage' , ascending=False)"
   ]
  },
  {
   "cell_type": "code",
   "execution_count": 7,
   "metadata": {
    "ExecuteTime": {
     "end_time": "2019-10-10T23:17:42.527269Z",
     "start_time": "2019-10-10T23:17:42.496357Z"
    }
   },
   "outputs": [
    {
     "data": {
      "text/html": [
       "<div>\n",
       "<style scoped>\n",
       "    .dataframe tbody tr th:only-of-type {\n",
       "        vertical-align: middle;\n",
       "    }\n",
       "\n",
       "    .dataframe tbody tr th {\n",
       "        vertical-align: top;\n",
       "    }\n",
       "\n",
       "    .dataframe thead th {\n",
       "        text-align: right;\n",
       "    }\n",
       "</style>\n",
       "<table border=\"1\" class=\"dataframe\">\n",
       "  <thead>\n",
       "    <tr style=\"text-align: right;\">\n",
       "      <th></th>\n",
       "      <th>NaNs percentage</th>\n",
       "    </tr>\n",
       "  </thead>\n",
       "  <tbody>\n",
       "    <tr>\n",
       "      <th>Date</th>\n",
       "      <td>0.0</td>\n",
       "    </tr>\n",
       "    <tr>\n",
       "      <th>X2</th>\n",
       "      <td>0.0</td>\n",
       "    </tr>\n",
       "    <tr>\n",
       "      <th>X3</th>\n",
       "      <td>0.0</td>\n",
       "    </tr>\n",
       "    <tr>\n",
       "      <th>X4</th>\n",
       "      <td>0.0</td>\n",
       "    </tr>\n",
       "    <tr>\n",
       "      <th>Y</th>\n",
       "      <td>0.0</td>\n",
       "    </tr>\n",
       "  </tbody>\n",
       "</table>\n",
       "</div>"
      ],
      "text/plain": [
       "      NaNs percentage\n",
       "Date              0.0\n",
       "X2                0.0\n",
       "X3                0.0\n",
       "X4                0.0\n",
       "Y                 0.0"
      ]
     },
     "execution_count": 7,
     "metadata": {},
     "output_type": "execute_result"
    }
   ],
   "source": [
    "#Filling all missing values with 0\n",
    "df = df.fillna(0)\n",
    "\n",
    "percent_missing = df.isnull().sum() * 100 / len(df)\n",
    "missing_values = pd.DataFrame({'NaNs percentage': percent_missing})\n",
    "missing_values.sort_values(by ='NaNs percentage' , ascending=False)"
   ]
  },
  {
   "cell_type": "markdown",
   "metadata": {},
   "source": [
    "## Dates"
   ]
  },
  {
   "cell_type": "code",
   "execution_count": 8,
   "metadata": {
    "ExecuteTime": {
     "end_time": "2019-10-10T23:17:42.587662Z",
     "start_time": "2019-10-10T23:17:42.548484Z"
    }
   },
   "outputs": [
    {
     "data": {
      "text/html": [
       "<div>\n",
       "<style scoped>\n",
       "    .dataframe tbody tr th:only-of-type {\n",
       "        vertical-align: middle;\n",
       "    }\n",
       "\n",
       "    .dataframe tbody tr th {\n",
       "        vertical-align: top;\n",
       "    }\n",
       "\n",
       "    .dataframe thead th {\n",
       "        text-align: right;\n",
       "    }\n",
       "</style>\n",
       "<table border=\"1\" class=\"dataframe\">\n",
       "  <thead>\n",
       "    <tr style=\"text-align: right;\">\n",
       "      <th></th>\n",
       "      <th>Date</th>\n",
       "      <th>X2</th>\n",
       "      <th>X3</th>\n",
       "      <th>X4</th>\n",
       "      <th>Y</th>\n",
       "      <th>year</th>\n",
       "      <th>month</th>\n",
       "      <th>day</th>\n",
       "    </tr>\n",
       "  </thead>\n",
       "  <tbody>\n",
       "    <tr>\n",
       "      <th>0</th>\n",
       "      <td>2016-01-01</td>\n",
       "      <td>3.203842</td>\n",
       "      <td>1.972181</td>\n",
       "      <td>Car</td>\n",
       "      <td>True</td>\n",
       "      <td>2016</td>\n",
       "      <td>1</td>\n",
       "      <td>1</td>\n",
       "    </tr>\n",
       "    <tr>\n",
       "      <th>1</th>\n",
       "      <td>2016-01-02</td>\n",
       "      <td>2.982098</td>\n",
       "      <td>2.519070</td>\n",
       "      <td>Car</td>\n",
       "      <td>True</td>\n",
       "      <td>2016</td>\n",
       "      <td>1</td>\n",
       "      <td>2</td>\n",
       "    </tr>\n",
       "    <tr>\n",
       "      <th>2</th>\n",
       "      <td>2016-01-03</td>\n",
       "      <td>2.927152</td>\n",
       "      <td>2.594674</td>\n",
       "      <td>Car</td>\n",
       "      <td>True</td>\n",
       "      <td>2016</td>\n",
       "      <td>1</td>\n",
       "      <td>3</td>\n",
       "    </tr>\n",
       "    <tr>\n",
       "      <th>3</th>\n",
       "      <td>2016-01-04</td>\n",
       "      <td>3.225205</td>\n",
       "      <td>1.747868</td>\n",
       "      <td>Car</td>\n",
       "      <td>True</td>\n",
       "      <td>2016</td>\n",
       "      <td>1</td>\n",
       "      <td>4</td>\n",
       "    </tr>\n",
       "    <tr>\n",
       "      <th>4</th>\n",
       "      <td>2016-01-05</td>\n",
       "      <td>2.962220</td>\n",
       "      <td>2.304184</td>\n",
       "      <td>Car</td>\n",
       "      <td>True</td>\n",
       "      <td>2016</td>\n",
       "      <td>1</td>\n",
       "      <td>5</td>\n",
       "    </tr>\n",
       "  </tbody>\n",
       "</table>\n",
       "</div>"
      ],
      "text/plain": [
       "        Date        X2        X3   X4     Y  year  month  day\n",
       "0 2016-01-01  3.203842  1.972181  Car  True  2016      1    1\n",
       "1 2016-01-02  2.982098  2.519070  Car  True  2016      1    2\n",
       "2 2016-01-03  2.927152  2.594674  Car  True  2016      1    3\n",
       "3 2016-01-04  3.225205  1.747868  Car  True  2016      1    4\n",
       "4 2016-01-05  2.962220  2.304184  Car  True  2016      1    5"
      ]
     },
     "execution_count": 8,
     "metadata": {},
     "output_type": "execute_result"
    }
   ],
   "source": [
    "#Extracting Year\n",
    "df['year'] = df['Date'].dt.year\n",
    "\n",
    "#Extracting Month\n",
    "df['month'] = df['Date'].dt.month\n",
    "\n",
    "#Extracting the weekday name of the date\n",
    "df['day'] = df['Date'].dt.day #_name()\n",
    "\n",
    "df.head()"
   ]
  },
  {
   "cell_type": "markdown",
   "metadata": {},
   "source": [
    "## Outliers"
   ]
  },
  {
   "cell_type": "code",
   "execution_count": 9,
   "metadata": {
    "ExecuteTime": {
     "end_time": "2019-10-10T23:17:43.091631Z",
     "start_time": "2019-10-10T23:17:42.593245Z"
    }
   },
   "outputs": [
    {
     "data": {
      "text/plain": [
       "<Figure size 800x600 with 1 Axes>"
      ]
     },
     "metadata": {},
     "output_type": "display_data"
    }
   ],
   "source": [
    "import matplotlib.pyplot as plt\n",
    "import seaborn as sns\n",
    "\n",
    "plt.scatter(df['X2'], df['X3'])\n",
    "plt.xlabel('X2')\n",
    "plt.ylabel('X3')\n",
    "plt.show()"
   ]
  },
  {
   "cell_type": "code",
   "execution_count": 10,
   "metadata": {
    "ExecuteTime": {
     "end_time": "2019-10-10T23:17:43.298963Z",
     "start_time": "2019-10-10T23:17:43.098691Z"
    }
   },
   "outputs": [
    {
     "data": {
      "text/plain": [
       "(array([3.000e+00, 1.000e+00, 4.000e+00, 1.700e+01, 7.700e+01, 4.160e+02,\n",
       "        1.548e+03, 1.861e+03, 2.618e+03, 1.455e+03]),\n",
       " array([0.        , 0.35044695, 0.70089389, 1.05134084, 1.40178778,\n",
       "        1.75223473, 2.10268167, 2.45312862, 2.80357556, 3.15402251,\n",
       "        3.50446945]),\n",
       " <a list of 10 Patch objects>)"
      ]
     },
     "execution_count": 10,
     "metadata": {},
     "output_type": "execute_result"
    },
    {
     "data": {
      "image/png": "[encoded data removed]",
      "text/plain": [
       "<Figure size 432x288 with 1 Axes>"
      ]
     },
     "metadata": {
      "needs_background": "light"
     },
     "output_type": "display_data"
    }
   ],
   "source": [
    "plt.hist(df['X2'])"
   ]
  },
  {
   "cell_type": "code",
   "execution_count": 11,
   "metadata": {
    "ExecuteTime": {
     "end_time": "2019-10-10T23:17:43.473139Z",
     "start_time": "2019-10-10T23:17:43.302357Z"
    }
   },
   "outputs": [
    {
     "data": {
      "text/plain": [
       "(array([  16.,   34.,  153., 2233., 2212.,  161.,  299.,  469.,  857.,\n",
       "        1566.]),\n",
       " array([0.        , 0.57037825, 1.14075649, 1.71113474, 2.28151299,\n",
       "        2.85189124, 3.42226948, 3.99264773, 4.56302598, 5.13340423,\n",
       "        5.70378247]),\n",
       " <a list of 10 Patch objects>)"
      ]
     },
     "execution_count": 11,
     "metadata": {},
     "output_type": "execute_result"
    },
    {
     "data": {
      "image/png": "[encoded data removed]",
      "text/plain": [
       "<Figure size 432x288 with 1 Axes>"
      ]
     },
     "metadata": {
      "needs_background": "light"
     },
     "output_type": "display_data"
    }
   ],
   "source": [
    "plt.hist(df['X3'])"
   ]
  },
  {
   "cell_type": "code",
   "execution_count": 12,
   "metadata": {
    "ExecuteTime": {
     "end_time": "2019-10-10T23:17:43.617413Z",
     "start_time": "2019-10-10T23:17:43.476665Z"
    }
   },
   "outputs": [
    {
     "data": {
      "text/plain": [
       "<matplotlib.axes._subplots.AxesSubplot at 0x11c3a2978>"
      ]
     },
     "execution_count": 12,
     "metadata": {},
     "output_type": "execute_result"
    },
    {
     "data": {
      "image/png": "[encoded data removed]",
      "text/plain": [
       "<Figure size 432x288 with 1 Axes>"
      ]
     },
     "metadata": {
      "needs_background": "light"
     },
     "output_type": "display_data"
    }
   ],
   "source": [
    "sns.boxplot(x=df[\"X2\"])"
   ]
  },
  {
   "cell_type": "code",
   "execution_count": 13,
   "metadata": {
    "ExecuteTime": {
     "end_time": "2019-10-10T23:17:43.789041Z",
     "start_time": "2019-10-10T23:17:43.624056Z"
    }
   },
   "outputs": [
    {
     "data": {
      "text/plain": [
       "<matplotlib.axes._subplots.AxesSubplot at 0x11c489860>"
      ]
     },
     "execution_count": 13,
     "metadata": {},
     "output_type": "execute_result"
    },
    {
     "data": {
      "image/png": "[encoded data removed]",
      "text/plain": [
       "<Figure size 432x288 with 1 Axes>"
      ]
     },
     "metadata": {
      "needs_background": "light"
     },
     "output_type": "display_data"
    }
   ],
   "source": [
    "sns.boxplot(x=df[\"X3\"])"
   ]
  },
  {
   "cell_type": "code",
   "execution_count": 14,
   "metadata": {
    "ExecuteTime": {
     "end_time": "2019-10-10T23:17:43.817363Z",
     "start_time": "2019-10-10T23:17:43.793835Z"
    }
   },
   "outputs": [
    {
     "name": "stdout",
     "output_type": "stream",
     "text": [
      "8000\n",
      "7771\n",
      "7984\n"
     ]
    }
   ],
   "source": [
    "print(len(df))\n",
    "UpperLimit = df['X2'].mean() + df['X2'].std() * 2\n",
    "LowerLimit = df['X2'].mean() - df['X2'].std() * 2\n",
    "df2 = df[(df['X2'] < UpperLimit) & (df['X2'] > LowerLimit)]\n",
    "print(len(df2))\n",
    "UpperLim = df['X3'].mean() + df['X3'].std() * 2\n",
    "LowerLim = df['X3'].mean() - df['X3'].std() * 2\n",
    "df3 = df[(df['X3'] < UpperLim) & (df['X3'] > LowerLim)]\n",
    "print(len(df3))"
   ]
  },
  {
   "cell_type": "code",
   "execution_count": 15,
   "metadata": {
    "ExecuteTime": {
     "end_time": "2019-10-10T23:17:43.831152Z",
     "start_time": "2019-10-10T23:17:43.821253Z"
    }
   },
   "outputs": [
    {
     "name": "stdout",
     "output_type": "stream",
     "text": [
      "7200\n"
     ]
    }
   ],
   "source": [
    "upper_lim = df['X2'].quantile(0.95)\n",
    "lower_lim = df['X2'].quantile(0.05)\n",
    "df4 = df[(df['X2'] < upper_lim) & (df['X2'] > lower_lim)]\n",
    "print(len(df4))"
   ]
  },
  {
   "cell_type": "markdown",
   "metadata": {},
   "source": [
    "## Binning"
   ]
  },
  {
   "cell_type": "code",
   "execution_count": 16,
   "metadata": {
    "ExecuteTime": {
     "end_time": "2019-10-10T23:17:43.858489Z",
     "start_time": "2019-10-10T23:17:43.833977Z"
    }
   },
   "outputs": [
    {
     "data": {
      "text/html": [
       "<div>\n",
       "<style scoped>\n",
       "    .dataframe tbody tr th:only-of-type {\n",
       "        vertical-align: middle;\n",
       "    }\n",
       "\n",
       "    .dataframe tbody tr th {\n",
       "        vertical-align: top;\n",
       "    }\n",
       "\n",
       "    .dataframe thead th {\n",
       "        text-align: right;\n",
       "    }\n",
       "</style>\n",
       "<table border=\"1\" class=\"dataframe\">\n",
       "  <thead>\n",
       "    <tr style=\"text-align: right;\">\n",
       "      <th></th>\n",
       "      <th>Date</th>\n",
       "      <th>X2</th>\n",
       "      <th>X3</th>\n",
       "      <th>X4</th>\n",
       "      <th>Y</th>\n",
       "      <th>year</th>\n",
       "      <th>month</th>\n",
       "      <th>day</th>\n",
       "      <th>Vehicle Type</th>\n",
       "    </tr>\n",
       "  </thead>\n",
       "  <tbody>\n",
       "    <tr>\n",
       "      <th>5567</th>\n",
       "      <td>2031-03-30</td>\n",
       "      <td>2.330813</td>\n",
       "      <td>3.044522</td>\n",
       "      <td>Bike</td>\n",
       "      <td>False</td>\n",
       "      <td>2031</td>\n",
       "      <td>3</td>\n",
       "      <td>30</td>\n",
       "      <td>Not-Electric</td>\n",
       "    </tr>\n",
       "    <tr>\n",
       "      <th>387</th>\n",
       "      <td>2017-01-22</td>\n",
       "      <td>3.121918</td>\n",
       "      <td>2.034133</td>\n",
       "      <td>Car</td>\n",
       "      <td>True</td>\n",
       "      <td>2017</td>\n",
       "      <td>1</td>\n",
       "      <td>22</td>\n",
       "      <td>Electric</td>\n",
       "    </tr>\n",
       "    <tr>\n",
       "      <th>3455</th>\n",
       "      <td>2025-06-17</td>\n",
       "      <td>3.159501</td>\n",
       "      <td>1.845275</td>\n",
       "      <td>Bus</td>\n",
       "      <td>True</td>\n",
       "      <td>2025</td>\n",
       "      <td>6</td>\n",
       "      <td>17</td>\n",
       "      <td>Electric</td>\n",
       "    </tr>\n",
       "    <tr>\n",
       "      <th>5666</th>\n",
       "      <td>2031-07-07</td>\n",
       "      <td>2.769590</td>\n",
       "      <td>5.690359</td>\n",
       "      <td>Bike</td>\n",
       "      <td>False</td>\n",
       "      <td>2031</td>\n",
       "      <td>7</td>\n",
       "      <td>7</td>\n",
       "      <td>Not-Electric</td>\n",
       "    </tr>\n",
       "    <tr>\n",
       "      <th>7899</th>\n",
       "      <td>2037-08-17</td>\n",
       "      <td>2.342305</td>\n",
       "      <td>2.519070</td>\n",
       "      <td>Scooter</td>\n",
       "      <td>False</td>\n",
       "      <td>2037</td>\n",
       "      <td>8</td>\n",
       "      <td>17</td>\n",
       "      <td>Not-Electric</td>\n",
       "    </tr>\n",
       "  </tbody>\n",
       "</table>\n",
       "</div>"
      ],
      "text/plain": [
       "           Date        X2        X3       X4      Y  year  month  day  \\\n",
       "5567 2031-03-30  2.330813  3.044522     Bike  False  2031      3   30   \n",
       "387  2017-01-22  3.121918  2.034133      Car   True  2017      1   22   \n",
       "3455 2025-06-17  3.159501  1.845275      Bus   True  2025      6   17   \n",
       "5666 2031-07-07  2.769590  5.690359     Bike  False  2031      7    7   \n",
       "7899 2037-08-17  2.342305  2.519070  Scooter  False  2037      8   17   \n",
       "\n",
       "      Vehicle Type  \n",
       "5567  Not-Electric  \n",
       "387       Electric  \n",
       "3455      Electric  \n",
       "5666  Not-Electric  \n",
       "7899  Not-Electric  "
      ]
     },
     "execution_count": 16,
     "metadata": {},
     "output_type": "execute_result"
    }
   ],
   "source": [
    "df['Vehicle Type'] = np.select([df.X4 == 'Car',df.X4 == 'Bus', df.X4 == 'Bike', \n",
    "                                df.X4 == 'Scooter'], \n",
    "                               ['Electric', 'Electric', 'Not-Electric', \n",
    "                                'Not-Electric'], \n",
    "                               default='Not Classified')\n",
    "df.sample(5)"
   ]
  },
  {
   "cell_type": "code",
   "execution_count": 17,
   "metadata": {
    "ExecuteTime": {
     "end_time": "2019-10-10T23:17:43.900285Z",
     "start_time": "2019-10-10T23:17:43.861052Z"
    },
    "scrolled": true
   },
   "outputs": [
    {
     "data": {
      "text/html": [
       "<div>\n",
       "<style scoped>\n",
       "    .dataframe tbody tr th:only-of-type {\n",
       "        vertical-align: middle;\n",
       "    }\n",
       "\n",
       "    .dataframe tbody tr th {\n",
       "        vertical-align: top;\n",
       "    }\n",
       "\n",
       "    .dataframe thead th {\n",
       "        text-align: right;\n",
       "    }\n",
       "</style>\n",
       "<table border=\"1\" class=\"dataframe\">\n",
       "  <thead>\n",
       "    <tr style=\"text-align: right;\">\n",
       "      <th></th>\n",
       "      <th>Date</th>\n",
       "      <th>X2</th>\n",
       "      <th>X3</th>\n",
       "      <th>X4</th>\n",
       "      <th>Y</th>\n",
       "      <th>year</th>\n",
       "      <th>month</th>\n",
       "      <th>day</th>\n",
       "      <th>Vehicle Type</th>\n",
       "      <th>Ranges</th>\n",
       "    </tr>\n",
       "  </thead>\n",
       "  <tbody>\n",
       "    <tr>\n",
       "      <th>7738</th>\n",
       "      <td>2037-03-09</td>\n",
       "      <td>2.875999</td>\n",
       "      <td>5.389072</td>\n",
       "      <td>Scooter</td>\n",
       "      <td>False</td>\n",
       "      <td>2037</td>\n",
       "      <td>3</td>\n",
       "      <td>9</td>\n",
       "      <td>Not-Electric</td>\n",
       "      <td>Low</td>\n",
       "    </tr>\n",
       "    <tr>\n",
       "      <th>4242</th>\n",
       "      <td>2027-08-13</td>\n",
       "      <td>2.568517</td>\n",
       "      <td>2.890372</td>\n",
       "      <td>Bike</td>\n",
       "      <td>False</td>\n",
       "      <td>2027</td>\n",
       "      <td>8</td>\n",
       "      <td>13</td>\n",
       "      <td>Not-Electric</td>\n",
       "      <td>Low</td>\n",
       "    </tr>\n",
       "    <tr>\n",
       "      <th>3073</th>\n",
       "      <td>2024-05-31</td>\n",
       "      <td>3.113366</td>\n",
       "      <td>2.129263</td>\n",
       "      <td>Bus</td>\n",
       "      <td>True</td>\n",
       "      <td>2024</td>\n",
       "      <td>5</td>\n",
       "      <td>31</td>\n",
       "      <td>Electric</td>\n",
       "      <td>Low</td>\n",
       "    </tr>\n",
       "    <tr>\n",
       "      <th>1231</th>\n",
       "      <td>2019-05-16</td>\n",
       "      <td>3.200122</td>\n",
       "      <td>2.507959</td>\n",
       "      <td>Car</td>\n",
       "      <td>True</td>\n",
       "      <td>2019</td>\n",
       "      <td>5</td>\n",
       "      <td>16</td>\n",
       "      <td>Electric</td>\n",
       "      <td>Low</td>\n",
       "    </tr>\n",
       "    <tr>\n",
       "      <th>325</th>\n",
       "      <td>2016-11-21</td>\n",
       "      <td>3.026681</td>\n",
       "      <td>2.271927</td>\n",
       "      <td>Car</td>\n",
       "      <td>True</td>\n",
       "      <td>2016</td>\n",
       "      <td>11</td>\n",
       "      <td>21</td>\n",
       "      <td>Electric</td>\n",
       "      <td>Low</td>\n",
       "    </tr>\n",
       "  </tbody>\n",
       "</table>\n",
       "</div>"
      ],
      "text/plain": [
       "           Date        X2        X3       X4      Y  year  month  day  \\\n",
       "7738 2037-03-09  2.875999  5.389072  Scooter  False  2037      3    9   \n",
       "4242 2027-08-13  2.568517  2.890372     Bike  False  2027      8   13   \n",
       "3073 2024-05-31  3.113366  2.129263      Bus   True  2024      5   31   \n",
       "1231 2019-05-16  3.200122  2.507959      Car   True  2019      5   16   \n",
       "325  2016-11-21  3.026681  2.271927      Car   True  2016     11   21   \n",
       "\n",
       "      Vehicle Type Ranges  \n",
       "7738  Not-Electric    Low  \n",
       "4242  Not-Electric    Low  \n",
       "3073      Electric    Low  \n",
       "1231      Electric    Low  \n",
       "325       Electric    Low  "
      ]
     },
     "execution_count": 17,
     "metadata": {},
     "output_type": "execute_result"
    }
   ],
   "source": [
    "df['Ranges'] = pd.cut(df.X3, bins = [0, 100, 200, 300], labels=[\"Low\", \"Medium\", \"High\"])\n",
    "df.sample(5)"
   ]
  },
  {
   "cell_type": "markdown",
   "metadata": {},
   "source": [
    "## Categorical to Numeric"
   ]
  },
  {
   "cell_type": "code",
   "execution_count": 18,
   "metadata": {
    "ExecuteTime": {
     "end_time": "2019-10-10T23:17:43.924172Z",
     "start_time": "2019-10-10T23:17:43.906521Z"
    }
   },
   "outputs": [],
   "source": [
    "X = df.drop(['Y', 'Date'], axis = 1)\n",
    "Y = df['Y']"
   ]
  },
  {
   "cell_type": "code",
   "execution_count": 19,
   "metadata": {
    "ExecuteTime": {
     "end_time": "2019-10-10T23:17:43.967496Z",
     "start_time": "2019-10-10T23:17:43.932837Z"
    }
   },
   "outputs": [
    {
     "data": {
      "text/html": [
       "<div>\n",
       "<style scoped>\n",
       "    .dataframe tbody tr th:only-of-type {\n",
       "        vertical-align: middle;\n",
       "    }\n",
       "\n",
       "    .dataframe tbody tr th {\n",
       "        vertical-align: top;\n",
       "    }\n",
       "\n",
       "    .dataframe thead th {\n",
       "        text-align: right;\n",
       "    }\n",
       "</style>\n",
       "<table border=\"1\" class=\"dataframe\">\n",
       "  <thead>\n",
       "    <tr style=\"text-align: right;\">\n",
       "      <th></th>\n",
       "      <th>X2</th>\n",
       "      <th>X3</th>\n",
       "      <th>year</th>\n",
       "      <th>month</th>\n",
       "      <th>day</th>\n",
       "      <th>X4_Bike</th>\n",
       "      <th>X4_Bus</th>\n",
       "      <th>X4_Car</th>\n",
       "      <th>X4_Scooter</th>\n",
       "      <th>Vehicle Type_Electric</th>\n",
       "      <th>Vehicle Type_Not-Electric</th>\n",
       "      <th>Ranges_Low</th>\n",
       "      <th>Ranges_Medium</th>\n",
       "      <th>Ranges_High</th>\n",
       "    </tr>\n",
       "  </thead>\n",
       "  <tbody>\n",
       "    <tr>\n",
       "      <th>0</th>\n",
       "      <td>3.203842</td>\n",
       "      <td>1.972181</td>\n",
       "      <td>2016</td>\n",
       "      <td>1</td>\n",
       "      <td>1</td>\n",
       "      <td>0</td>\n",
       "      <td>0</td>\n",
       "      <td>1</td>\n",
       "      <td>0</td>\n",
       "      <td>1</td>\n",
       "      <td>0</td>\n",
       "      <td>1</td>\n",
       "      <td>0</td>\n",
       "      <td>0</td>\n",
       "    </tr>\n",
       "    <tr>\n",
       "      <th>1</th>\n",
       "      <td>2.982098</td>\n",
       "      <td>2.519070</td>\n",
       "      <td>2016</td>\n",
       "      <td>1</td>\n",
       "      <td>2</td>\n",
       "      <td>0</td>\n",
       "      <td>0</td>\n",
       "      <td>1</td>\n",
       "      <td>0</td>\n",
       "      <td>1</td>\n",
       "      <td>0</td>\n",
       "      <td>1</td>\n",
       "      <td>0</td>\n",
       "      <td>0</td>\n",
       "    </tr>\n",
       "    <tr>\n",
       "      <th>2</th>\n",
       "      <td>2.927152</td>\n",
       "      <td>2.594674</td>\n",
       "      <td>2016</td>\n",
       "      <td>1</td>\n",
       "      <td>3</td>\n",
       "      <td>0</td>\n",
       "      <td>0</td>\n",
       "      <td>1</td>\n",
       "      <td>0</td>\n",
       "      <td>1</td>\n",
       "      <td>0</td>\n",
       "      <td>1</td>\n",
       "      <td>0</td>\n",
       "      <td>0</td>\n",
       "    </tr>\n",
       "    <tr>\n",
       "      <th>3</th>\n",
       "      <td>3.225205</td>\n",
       "      <td>1.747868</td>\n",
       "      <td>2016</td>\n",
       "      <td>1</td>\n",
       "      <td>4</td>\n",
       "      <td>0</td>\n",
       "      <td>0</td>\n",
       "      <td>1</td>\n",
       "      <td>0</td>\n",
       "      <td>1</td>\n",
       "      <td>0</td>\n",
       "      <td>1</td>\n",
       "      <td>0</td>\n",
       "      <td>0</td>\n",
       "    </tr>\n",
       "    <tr>\n",
       "      <th>4</th>\n",
       "      <td>2.962220</td>\n",
       "      <td>2.304184</td>\n",
       "      <td>2016</td>\n",
       "      <td>1</td>\n",
       "      <td>5</td>\n",
       "      <td>0</td>\n",
       "      <td>0</td>\n",
       "      <td>1</td>\n",
       "      <td>0</td>\n",
       "      <td>1</td>\n",
       "      <td>0</td>\n",
       "      <td>1</td>\n",
       "      <td>0</td>\n",
       "      <td>0</td>\n",
       "    </tr>\n",
       "  </tbody>\n",
       "</table>\n",
       "</div>"
      ],
      "text/plain": [
       "         X2        X3  year  month  day  X4_Bike  X4_Bus  X4_Car  X4_Scooter  \\\n",
       "0  3.203842  1.972181  2016      1    1        0       0       1           0   \n",
       "1  2.982098  2.519070  2016      1    2        0       0       1           0   \n",
       "2  2.927152  2.594674  2016      1    3        0       0       1           0   \n",
       "3  3.225205  1.747868  2016      1    4        0       0       1           0   \n",
       "4  2.962220  2.304184  2016      1    5        0       0       1           0   \n",
       "\n",
       "   Vehicle Type_Electric  Vehicle Type_Not-Electric  Ranges_Low  \\\n",
       "0                      1                          0           1   \n",
       "1                      1                          0           1   \n",
       "2                      1                          0           1   \n",
       "3                      1                          0           1   \n",
       "4                      1                          0           1   \n",
       "\n",
       "   Ranges_Medium  Ranges_High  \n",
       "0              0            0  \n",
       "1              0            0  \n",
       "2              0            0  \n",
       "3              0            0  \n",
       "4              0            0  "
      ]
     },
     "execution_count": 19,
     "metadata": {},
     "output_type": "execute_result"
    }
   ],
   "source": [
    "X = pd.get_dummies(X, prefix_sep='_')\n",
    "X.head()"
   ]
  },
  {
   "cell_type": "code",
   "execution_count": 20,
   "metadata": {
    "ExecuteTime": {
     "end_time": "2019-10-10T23:17:44.402789Z",
     "start_time": "2019-10-10T23:17:43.971905Z"
    }
   },
   "outputs": [
    {
     "data": {
      "text/plain": [
       "array([1, 1, 1, ..., 0, 0, 0])"
      ]
     },
     "execution_count": 20,
     "metadata": {},
     "output_type": "execute_result"
    }
   ],
   "source": [
    "from sklearn.preprocessing import LabelEncoder\n",
    "\n",
    "Y = LabelEncoder().fit_transform(Y)\n",
    "#np.set_printoptions(threshold=np.inf)\n",
    "Y"
   ]
  },
  {
   "cell_type": "markdown",
   "metadata": {},
   "source": [
    "## Machine Learning"
   ]
  },
  {
   "cell_type": "code",
   "execution_count": 21,
   "metadata": {
    "ExecuteTime": {
     "end_time": "2019-10-10T23:17:44.486225Z",
     "start_time": "2019-10-10T23:17:44.406320Z"
    }
   },
   "outputs": [],
   "source": [
    "from sklearn.preprocessing import StandardScaler\n",
    "from sklearn.model_selection import train_test_split\n",
    "from sklearn.metrics import classification_report,confusion_matrix\n",
    "from sklearn.ensemble import RandomForestClassifier\n",
    "import time\n",
    "\n",
    "X = StandardScaler().fit_transform(X)\n",
    "\n",
    "X_Train, X_Test, Y_Train, Y_Test = train_test_split(X, Y, test_size = 0.30, random_state = 101)"
   ]
  },
  {
   "cell_type": "code",
   "execution_count": 22,
   "metadata": {
    "ExecuteTime": {
     "end_time": "2019-10-10T23:17:45.770116Z",
     "start_time": "2019-10-10T23:17:44.489469Z"
    }
   },
   "outputs": [
    {
     "name": "stdout",
     "output_type": "stream",
     "text": [
      "2.244178\n",
      "[[1204    0]\n",
      " [   0 1196]]\n",
      "              precision    recall  f1-score   support\n",
      "\n",
      "           0       1.00      1.00      1.00      1204\n",
      "           1       1.00      1.00      1.00      1196\n",
      "\n",
      "    accuracy                           1.00      2400\n",
      "   macro avg       1.00      1.00      1.00      2400\n",
      "weighted avg       1.00      1.00      1.00      2400\n",
      "\n"
     ]
    }
   ],
   "source": [
    "start = time.process_time()\n",
    "trainedforest = RandomForestClassifier(n_estimators=700).fit(X_Train,Y_Train)\n",
    "print(time.process_time() - start)\n",
    "predictionforest = trainedforest.predict(X_Test)\n",
    "print(confusion_matrix(Y_Test,predictionforest))\n",
    "print(classification_report(Y_Test,predictionforest))"
   ]
  }
 ],
 "metadata": {
  "kernelspec": {
   "display_name": "Python (dataSc)",
   "language": "python",
   "name": "datasc"
  },
  "language_info": {
   "codemirror_mode": {
    "name": "ipython",
    "version": 3
   },
   "file_extension": ".py",
   "mimetype": "text/x-python",
   "name": "python",
   "nbconvert_exporter": "python",
   "pygments_lexer": "ipython3",
   "version": "3.7.3"
  },
  "toc": {
   "base_numbering": 1,
   "nav_menu": {},
   "number_sections": true,
   "sideBar": true,
   "skip_h1_title": true,
   "title_cell": "Table of Contents",
   "title_sidebar": "Contents",
   "toc_cell": true,
   "toc_position": {},
   "toc_section_display": true,
   "toc_window_display": false
  },
  "varInspector": {
   "cols": {
    "lenName": 16,
    "lenType": 16,
    "lenVar": 40
   },
   "kernels_config": {
    "python": {
     "delete_cmd_postfix": "",
     "delete_cmd_prefix": "del ",
     "library": "var_list.py",
     "varRefreshCmd": "print(var_dic_list())"
    },
    "r": {
     "delete_cmd_postfix": ") ",
     "delete_cmd_prefix": "rm(",
     "library": "var_list.r",
     "varRefreshCmd": "cat(var_dic_list()) "
    }
   },
   "types_to_exclude": [
    "module",
    "function",
    "builtin_function_or_method",
    "instance",
    "_Feature"
   ],
   "window_display": false
  }
 },
 "nbformat": 4,
 "nbformat_minor": 1
}
